{
 "cells": [
  {
   "cell_type": "markdown",
   "metadata": {},
   "source": [
    "# Imports"
   ]
  },
  {
   "cell_type": "markdown",
   "metadata": {},
   "source": [
    "## Data Management"
   ]
  },
  {
   "cell_type": "code",
   "execution_count": 3,
   "metadata": {},
   "outputs": [],
   "source": [
    "import datetime\n",
    "import numpy as np\n",
    "import pandas as pd"
   ]
  },
  {
   "cell_type": "markdown",
   "metadata": {},
   "source": [
    "## Analysis and Cleaning"
   ]
  },
  {
   "cell_type": "code",
   "execution_count": 4,
   "metadata": {},
   "outputs": [],
   "source": [
    "import string\n",
    "import re\n",
    "\n",
    "from gensim.parsing.preprocessing import preprocess_string, strip_tags, strip_punctuation, \\\n",
    "                                        strip_multiple_whitespaces, strip_numeric, \\\n",
    "                                        remove_stopwords, strip_short \n",
    "from gensim.models import Word2Vec"
   ]
  },
  {
   "cell_type": "markdown",
   "metadata": {},
   "source": [
    "## Learning"
   ]
  },
  {
   "cell_type": "code",
   "execution_count": 5,
   "metadata": {},
   "outputs": [],
   "source": [
    "from sklearn import cluster\n",
    "from sklearn import metrics\n",
    "from sklearn.decomposition import PCA\n",
    "from sklearn.manifold import TSNE"
   ]
  },
  {
   "cell_type": "markdown",
   "metadata": {},
   "source": [
    "## Visualization"
   ]
  },
  {
   "cell_type": "code",
   "execution_count": 6,
   "metadata": {},
   "outputs": [],
   "source": [
    "import seaborn as sns\n",
    "import matplotlib.pyplot as plt"
   ]
  },
  {
   "cell_type": "markdown",
   "metadata": {},
   "source": [
    "# Data Analysis & Cleanup"
   ]
  },
  {
   "cell_type": "code",
   "execution_count": 7,
   "metadata": {},
   "outputs": [
    {
     "name": "stdout",
     "output_type": "stream",
     "text": [
      "False Sample\n"
     ]
    },
    {
     "data": {
      "text/html": [
       "<div>\n",
       "<style scoped>\n",
       "    .dataframe tbody tr th:only-of-type {\n",
       "        vertical-align: middle;\n",
       "    }\n",
       "\n",
       "    .dataframe tbody tr th {\n",
       "        vertical-align: top;\n",
       "    }\n",
       "\n",
       "    .dataframe thead th {\n",
       "        text-align: right;\n",
       "    }\n",
       "</style>\n",
       "<table border=\"1\" class=\"dataframe\">\n",
       "  <thead>\n",
       "    <tr style=\"text-align: right;\">\n",
       "      <th></th>\n",
       "      <th>title</th>\n",
       "      <th>text</th>\n",
       "      <th>subject</th>\n",
       "      <th>date</th>\n",
       "    </tr>\n",
       "  </thead>\n",
       "  <tbody>\n",
       "    <tr>\n",
       "      <th>2163</th>\n",
       "      <td>Twitter TEARS Paul Ryan To BLOODY RIBBONS For...</td>\n",
       "      <td>The Congressional Budget Office s review of th...</td>\n",
       "      <td>News</td>\n",
       "      <td>March 13, 2017</td>\n",
       "    </tr>\n",
       "    <tr>\n",
       "      <th>498</th>\n",
       "      <td>House Dem Wants GOP On Record: Stop Gov’t Spe...</td>\n",
       "      <td>Early next month, the GOP-controlled House of ...</td>\n",
       "      <td>News</td>\n",
       "      <td>August 24, 2017</td>\n",
       "    </tr>\n",
       "    <tr>\n",
       "      <th>10195</th>\n",
       "      <td>BRILLIANT TRUMP ADVISER: “The Extreme Media” H...</td>\n",
       "      <td>What a treat! Laura Ingraham interviewed Presi...</td>\n",
       "      <td>politics</td>\n",
       "      <td>Aug 8, 2017</td>\n",
       "    </tr>\n",
       "    <tr>\n",
       "      <th>1988</th>\n",
       "      <td>Dan Rather: Trump’s First Two Months In Offic...</td>\n",
       "      <td>Legendary newsman Dan Rather has lived through...</td>\n",
       "      <td>News</td>\n",
       "      <td>March 27, 2017</td>\n",
       "    </tr>\n",
       "    <tr>\n",
       "      <th>2094</th>\n",
       "      <td>Trump Supporter Threatens To Slaughter Black ...</td>\n",
       "      <td>Ever since Officer Darren Wilson murdered unar...</td>\n",
       "      <td>News</td>\n",
       "      <td>March 19, 2017</td>\n",
       "    </tr>\n",
       "    <tr>\n",
       "      <th>7028</th>\n",
       "      <td>Seth MacFarlane Wants His Fellow Bernie Suppo...</td>\n",
       "      <td>Very outspoken Bernie Sanders supporter Seth M...</td>\n",
       "      <td>News</td>\n",
       "      <td>April 8, 2016</td>\n",
       "    </tr>\n",
       "    <tr>\n",
       "      <th>7084</th>\n",
       "      <td>No, Barney Frank Did NOT Call Bernie Supporte...</td>\n",
       "      <td>While I m not totally immune to clickbait as a...</td>\n",
       "      <td>News</td>\n",
       "      <td>April 5, 2016</td>\n",
       "    </tr>\n",
       "    <tr>\n",
       "      <th>19224</th>\n",
       "      <td>SAVAGE ANTI-TRUMP PROTESTERS Knock Out Innocen...</td>\n",
       "      <td>AIRPORTS ACROSS THE COUNTRY were inundated wit...</td>\n",
       "      <td>left-news</td>\n",
       "      <td>Jan 30, 2017</td>\n",
       "    </tr>\n",
       "    <tr>\n",
       "      <th>3948</th>\n",
       "      <td>WATCH: Anderson Cooper Schools Kellyanne Conw...</td>\n",
       "      <td>It was a simple question, but it was enough tu...</td>\n",
       "      <td>News</td>\n",
       "      <td>November 4, 2016</td>\n",
       "    </tr>\n",
       "    <tr>\n",
       "      <th>21786</th>\n",
       "      <td>(VIDEO) BALTIMORE MAYOR REOPENS LOOTED MALL: T...</td>\n",
       "      <td></td>\n",
       "      <td>left-news</td>\n",
       "      <td>May 4, 2015</td>\n",
       "    </tr>\n",
       "  </tbody>\n",
       "</table>\n",
       "</div>"
      ],
      "text/plain": [
       "                                                   title  \\\n",
       "2163    Twitter TEARS Paul Ryan To BLOODY RIBBONS For...   \n",
       "498     House Dem Wants GOP On Record: Stop Gov’t Spe...   \n",
       "10195  BRILLIANT TRUMP ADVISER: “The Extreme Media” H...   \n",
       "1988    Dan Rather: Trump’s First Two Months In Offic...   \n",
       "2094    Trump Supporter Threatens To Slaughter Black ...   \n",
       "7028    Seth MacFarlane Wants His Fellow Bernie Suppo...   \n",
       "7084    No, Barney Frank Did NOT Call Bernie Supporte...   \n",
       "19224  SAVAGE ANTI-TRUMP PROTESTERS Knock Out Innocen...   \n",
       "3948    WATCH: Anderson Cooper Schools Kellyanne Conw...   \n",
       "21786  (VIDEO) BALTIMORE MAYOR REOPENS LOOTED MALL: T...   \n",
       "\n",
       "                                                    text    subject  \\\n",
       "2163   The Congressional Budget Office s review of th...       News   \n",
       "498    Early next month, the GOP-controlled House of ...       News   \n",
       "10195  What a treat! Laura Ingraham interviewed Presi...   politics   \n",
       "1988   Legendary newsman Dan Rather has lived through...       News   \n",
       "2094   Ever since Officer Darren Wilson murdered unar...       News   \n",
       "7028   Very outspoken Bernie Sanders supporter Seth M...       News   \n",
       "7084   While I m not totally immune to clickbait as a...       News   \n",
       "19224  AIRPORTS ACROSS THE COUNTRY were inundated wit...  left-news   \n",
       "3948   It was a simple question, but it was enough tu...       News   \n",
       "21786                                                     left-news   \n",
       "\n",
       "                   date  \n",
       "2163     March 13, 2017  \n",
       "498     August 24, 2017  \n",
       "10195       Aug 8, 2017  \n",
       "1988     March 27, 2017  \n",
       "2094     March 19, 2017  \n",
       "7028      April 8, 2016  \n",
       "7084      April 5, 2016  \n",
       "19224      Jan 30, 2017  \n",
       "3948   November 4, 2016  \n",
       "21786       May 4, 2015  "
      ]
     },
     "metadata": {},
     "output_type": "display_data"
    },
    {
     "name": "stdout",
     "output_type": "stream",
     "text": [
      "\n",
      "\n",
      "\n",
      "\n",
      "\n",
      "True Sample\n"
     ]
    },
    {
     "data": {
      "text/html": [
       "<div>\n",
       "<style scoped>\n",
       "    .dataframe tbody tr th:only-of-type {\n",
       "        vertical-align: middle;\n",
       "    }\n",
       "\n",
       "    .dataframe tbody tr th {\n",
       "        vertical-align: top;\n",
       "    }\n",
       "\n",
       "    .dataframe thead th {\n",
       "        text-align: right;\n",
       "    }\n",
       "</style>\n",
       "<table border=\"1\" class=\"dataframe\">\n",
       "  <thead>\n",
       "    <tr style=\"text-align: right;\">\n",
       "      <th></th>\n",
       "      <th>title</th>\n",
       "      <th>text</th>\n",
       "      <th>subject</th>\n",
       "      <th>date</th>\n",
       "    </tr>\n",
       "  </thead>\n",
       "  <tbody>\n",
       "    <tr>\n",
       "      <th>11745</th>\n",
       "      <td>Food security in Middle East, North Africa det...</td>\n",
       "      <td>CAIRO (Reuters) - Food security in the Middle ...</td>\n",
       "      <td>worldnews</td>\n",
       "      <td>December 21, 2017</td>\n",
       "    </tr>\n",
       "    <tr>\n",
       "      <th>2075</th>\n",
       "      <td>Taliban condemn Trump's decision on Afghanista...</td>\n",
       "      <td>KABUL (Reuters) - A spokesman for the Afghan T...</td>\n",
       "      <td>politicsNews</td>\n",
       "      <td>August 22, 2017</td>\n",
       "    </tr>\n",
       "    <tr>\n",
       "      <th>1371</th>\n",
       "      <td>EPA watchdog expands audit of administrator's ...</td>\n",
       "      <td>WASHINGTON (Reuters) - The U.S. Environmental ...</td>\n",
       "      <td>politicsNews</td>\n",
       "      <td>October 6, 2017</td>\n",
       "    </tr>\n",
       "    <tr>\n",
       "      <th>14679</th>\n",
       "      <td>China denounces U.S. call to register Chinese ...</td>\n",
       "      <td>BEIJING (Reuters) - China denounced on Thursda...</td>\n",
       "      <td>worldnews</td>\n",
       "      <td>November 16, 2017</td>\n",
       "    </tr>\n",
       "    <tr>\n",
       "      <th>2862</th>\n",
       "      <td>Trump not aware of 2016 meeting between son, R...</td>\n",
       "      <td>WASHINGTON (Reuters) - President Donald Trump ...</td>\n",
       "      <td>politicsNews</td>\n",
       "      <td>July 9, 2017</td>\n",
       "    </tr>\n",
       "    <tr>\n",
       "      <th>767</th>\n",
       "      <td>New York Mayor de Blasio wins re-election in w...</td>\n",
       "      <td>NEW YORK (Reuters) - Democratic New York City ...</td>\n",
       "      <td>politicsNews</td>\n",
       "      <td>November 7, 2017</td>\n",
       "    </tr>\n",
       "    <tr>\n",
       "      <th>15058</th>\n",
       "      <td>Trump: Being friends with North Korea's Kim is...</td>\n",
       "      <td>HANOI (Reuters) - U.S. President Donald Trump ...</td>\n",
       "      <td>worldnews</td>\n",
       "      <td>November 12, 2017</td>\n",
       "    </tr>\n",
       "    <tr>\n",
       "      <th>13078</th>\n",
       "      <td>Jordan to convene Arab League, OIC meetings ov...</td>\n",
       "      <td>AMMAN (Reuters) - Jordan plans to convene emer...</td>\n",
       "      <td>worldnews</td>\n",
       "      <td>December 5, 2017</td>\n",
       "    </tr>\n",
       "    <tr>\n",
       "      <th>15651</th>\n",
       "      <td>Lebanese army says has not uncovered any assas...</td>\n",
       "      <td>BEIRUT (Reuters) - The Lebanese army said on S...</td>\n",
       "      <td>worldnews</td>\n",
       "      <td>November 5, 2017</td>\n",
       "    </tr>\n",
       "    <tr>\n",
       "      <th>7627</th>\n",
       "      <td>State Department says FBI has not approached i...</td>\n",
       "      <td>WASHINGTON (Reuters) - A U.S. State Department...</td>\n",
       "      <td>politicsNews</td>\n",
       "      <td>October 31, 2016</td>\n",
       "    </tr>\n",
       "  </tbody>\n",
       "</table>\n",
       "</div>"
      ],
      "text/plain": [
       "                                                   title  \\\n",
       "11745  Food security in Middle East, North Africa det...   \n",
       "2075   Taliban condemn Trump's decision on Afghanista...   \n",
       "1371   EPA watchdog expands audit of administrator's ...   \n",
       "14679  China denounces U.S. call to register Chinese ...   \n",
       "2862   Trump not aware of 2016 meeting between son, R...   \n",
       "767    New York Mayor de Blasio wins re-election in w...   \n",
       "15058  Trump: Being friends with North Korea's Kim is...   \n",
       "13078  Jordan to convene Arab League, OIC meetings ov...   \n",
       "15651  Lebanese army says has not uncovered any assas...   \n",
       "7627   State Department says FBI has not approached i...   \n",
       "\n",
       "                                                    text       subject  \\\n",
       "11745  CAIRO (Reuters) - Food security in the Middle ...     worldnews   \n",
       "2075   KABUL (Reuters) - A spokesman for the Afghan T...  politicsNews   \n",
       "1371   WASHINGTON (Reuters) - The U.S. Environmental ...  politicsNews   \n",
       "14679  BEIJING (Reuters) - China denounced on Thursda...     worldnews   \n",
       "2862   WASHINGTON (Reuters) - President Donald Trump ...  politicsNews   \n",
       "767    NEW YORK (Reuters) - Democratic New York City ...  politicsNews   \n",
       "15058  HANOI (Reuters) - U.S. President Donald Trump ...     worldnews   \n",
       "13078  AMMAN (Reuters) - Jordan plans to convene emer...     worldnews   \n",
       "15651  BEIRUT (Reuters) - The Lebanese army said on S...     worldnews   \n",
       "7627   WASHINGTON (Reuters) - A U.S. State Department...  politicsNews   \n",
       "\n",
       "                     date  \n",
       "11745  December 21, 2017   \n",
       "2075     August 22, 2017   \n",
       "1371     October 6, 2017   \n",
       "14679  November 16, 2017   \n",
       "2862        July 9, 2017   \n",
       "767     November 7, 2017   \n",
       "15058  November 12, 2017   \n",
       "13078   December 5, 2017   \n",
       "15651   November 5, 2017   \n",
       "7627    October 31, 2016   "
      ]
     },
     "metadata": {},
     "output_type": "display_data"
    }
   ],
   "source": [
    "fake = pd.read_csv('datasets/Fake.csv')\n",
    "true = pd.read_csv('datasets/True.csv')\n",
    "print('False Sample')\n",
    "display(fake.sample(10))\n",
    "print('\\n\\n\\n\\n')\n",
    "print('True Sample')\n",
    "display(true.sample(10))"
   ]
  },
  {
   "cell_type": "markdown",
   "metadata": {},
   "source": [
    "## Getting rid of unwanted strings"
   ]
  },
  {
   "cell_type": "code",
   "execution_count": 8,
   "metadata": {},
   "outputs": [
    {
     "data": {
      "text/html": [
       "<div>\n",
       "<style scoped>\n",
       "    .dataframe tbody tr th:only-of-type {\n",
       "        vertical-align: middle;\n",
       "    }\n",
       "\n",
       "    .dataframe tbody tr th {\n",
       "        vertical-align: top;\n",
       "    }\n",
       "\n",
       "    .dataframe thead th {\n",
       "        text-align: right;\n",
       "    }\n",
       "</style>\n",
       "<table border=\"1\" class=\"dataframe\">\n",
       "  <thead>\n",
       "    <tr style=\"text-align: right;\">\n",
       "      <th></th>\n",
       "      <th>title</th>\n",
       "      <th>text</th>\n",
       "      <th>subject</th>\n",
       "      <th>date</th>\n",
       "    </tr>\n",
       "  </thead>\n",
       "  <tbody>\n",
       "    <tr>\n",
       "      <th>0</th>\n",
       "      <td>As U.S. budget fight looms, Republicans flip t...</td>\n",
       "      <td>The head of a conservative Republican faction ...</td>\n",
       "      <td>politicsNews</td>\n",
       "      <td>December 31, 2017</td>\n",
       "    </tr>\n",
       "    <tr>\n",
       "      <th>1</th>\n",
       "      <td>U.S. military to accept transgender recruits o...</td>\n",
       "      <td>Transgender people will be allowed for the fir...</td>\n",
       "      <td>politicsNews</td>\n",
       "      <td>December 29, 2017</td>\n",
       "    </tr>\n",
       "    <tr>\n",
       "      <th>2</th>\n",
       "      <td>Senior U.S. Republican senator: 'Let Mr. Muell...</td>\n",
       "      <td>The special counsel investigation of links bet...</td>\n",
       "      <td>politicsNews</td>\n",
       "      <td>December 31, 2017</td>\n",
       "    </tr>\n",
       "    <tr>\n",
       "      <th>3</th>\n",
       "      <td>FBI Russia probe helped by Australian diplomat...</td>\n",
       "      <td>Trump campaign adviser George Papadopoulos tol...</td>\n",
       "      <td>politicsNews</td>\n",
       "      <td>December 30, 2017</td>\n",
       "    </tr>\n",
       "    <tr>\n",
       "      <th>4</th>\n",
       "      <td>Trump wants Postal Service to charge 'much mor...</td>\n",
       "      <td>President Donald Trump called on the U.S. Post...</td>\n",
       "      <td>politicsNews</td>\n",
       "      <td>December 29, 2017</td>\n",
       "    </tr>\n",
       "    <tr>\n",
       "      <th>5</th>\n",
       "      <td>White House, Congress prepare for talks on spe...</td>\n",
       "      <td>The White House said on Friday it was set to k...</td>\n",
       "      <td>politicsNews</td>\n",
       "      <td>December 29, 2017</td>\n",
       "    </tr>\n",
       "    <tr>\n",
       "      <th>6</th>\n",
       "      <td>Trump says Russia probe will be fair, but time...</td>\n",
       "      <td>President Donald Trump said on Thursday he bel...</td>\n",
       "      <td>politicsNews</td>\n",
       "      <td>December 29, 2017</td>\n",
       "    </tr>\n",
       "    <tr>\n",
       "      <th>7</th>\n",
       "      <td>Factbox: Trump on Twitter (Dec 29) - Approval ...</td>\n",
       "      <td>While the Fake News loves to talk about my so-...</td>\n",
       "      <td>politicsNews</td>\n",
       "      <td>December 29, 2017</td>\n",
       "    </tr>\n",
       "    <tr>\n",
       "      <th>8</th>\n",
       "      <td>Trump on Twitter (Dec 28) - Global Warming</td>\n",
       "      <td>Together, we are MAKING AMERICA GREAT AGAIN! b...</td>\n",
       "      <td>politicsNews</td>\n",
       "      <td>December 29, 2017</td>\n",
       "    </tr>\n",
       "    <tr>\n",
       "      <th>9</th>\n",
       "      <td>Alabama official to certify Senator-elect Jone...</td>\n",
       "      <td>Alabama Secretary of State John Merrill said h...</td>\n",
       "      <td>politicsNews</td>\n",
       "      <td>December 28, 2017</td>\n",
       "    </tr>\n",
       "  </tbody>\n",
       "</table>\n",
       "</div>"
      ],
      "text/plain": [
       "                                               title  \\\n",
       "0  As U.S. budget fight looms, Republicans flip t...   \n",
       "1  U.S. military to accept transgender recruits o...   \n",
       "2  Senior U.S. Republican senator: 'Let Mr. Muell...   \n",
       "3  FBI Russia probe helped by Australian diplomat...   \n",
       "4  Trump wants Postal Service to charge 'much mor...   \n",
       "5  White House, Congress prepare for talks on spe...   \n",
       "6  Trump says Russia probe will be fair, but time...   \n",
       "7  Factbox: Trump on Twitter (Dec 29) - Approval ...   \n",
       "8         Trump on Twitter (Dec 28) - Global Warming   \n",
       "9  Alabama official to certify Senator-elect Jone...   \n",
       "\n",
       "                                                text       subject  \\\n",
       "0  The head of a conservative Republican faction ...  politicsNews   \n",
       "1  Transgender people will be allowed for the fir...  politicsNews   \n",
       "2  The special counsel investigation of links bet...  politicsNews   \n",
       "3  Trump campaign adviser George Papadopoulos tol...  politicsNews   \n",
       "4  President Donald Trump called on the U.S. Post...  politicsNews   \n",
       "5  The White House said on Friday it was set to k...  politicsNews   \n",
       "6  President Donald Trump said on Thursday he bel...  politicsNews   \n",
       "7  While the Fake News loves to talk about my so-...  politicsNews   \n",
       "8  Together, we are MAKING AMERICA GREAT AGAIN! b...  politicsNews   \n",
       "9  Alabama Secretary of State John Merrill said h...  politicsNews   \n",
       "\n",
       "                 date  \n",
       "0  December 31, 2017   \n",
       "1  December 29, 2017   \n",
       "2  December 31, 2017   \n",
       "3  December 30, 2017   \n",
       "4  December 29, 2017   \n",
       "5  December 29, 2017   \n",
       "6  December 29, 2017   \n",
       "7  December 29, 2017   \n",
       "8  December 29, 2017   \n",
       "9  December 28, 2017   "
      ]
     },
     "metadata": {},
     "output_type": "display_data"
    }
   ],
   "source": [
    "cleansed_data = []\n",
    "for data in true.text:\n",
    "    if \"@realDonaldTrump : - \" in data:\n",
    "        cleansed_data.append(data.split(\"@realDonaldTrump : - \")[1])\n",
    "    elif \"(Reuters) -\" in data:\n",
    "        cleansed_data.append(data.split(\"(Reuters) - \")[1])\n",
    "    else:\n",
    "        cleansed_data.append(data)\n",
    "\n",
    "true[\"text\"] = cleansed_data\n",
    "display(true.head(10))"
   ]
  },
  {
   "cell_type": "markdown",
   "metadata": {},
   "source": [
    "## Joining title and text"
   ]
  },
  {
   "cell_type": "code",
   "execution_count": 9,
   "metadata": {},
   "outputs": [],
   "source": [
    "fake['Sentences'] = fake['title'] + ' ' + fake['text']\n",
    "true['Sentences'] = true['title'] + ' ' + true['text']"
   ]
  },
  {
   "cell_type": "markdown",
   "metadata": {},
   "source": [
    "## Adding Labels, concatenating and mixing"
   ]
  },
  {
   "cell_type": "code",
   "execution_count": 10,
   "metadata": {},
   "outputs": [],
   "source": [
    "fake['Label'] = 0\n",
    "true['Label'] = 1\n",
    "\n",
    "final_data = pd.concat([fake, true])\n",
    "\n",
    "final_data = final_data.sample(frac=1, random_state=42).reset_index(drop=True)"
   ]
  },
  {
   "cell_type": "markdown",
   "metadata": {},
   "source": [
    "## Droping uneeded columns"
   ]
  },
  {
   "cell_type": "code",
   "execution_count": 11,
   "metadata": {},
   "outputs": [
    {
     "data": {
      "text/html": [
       "<div>\n",
       "<style scoped>\n",
       "    .dataframe tbody tr th:only-of-type {\n",
       "        vertical-align: middle;\n",
       "    }\n",
       "\n",
       "    .dataframe tbody tr th {\n",
       "        vertical-align: top;\n",
       "    }\n",
       "\n",
       "    .dataframe thead th {\n",
       "        text-align: right;\n",
       "    }\n",
       "</style>\n",
       "<table border=\"1\" class=\"dataframe\">\n",
       "  <thead>\n",
       "    <tr style=\"text-align: right;\">\n",
       "      <th></th>\n",
       "      <th>Sentences</th>\n",
       "      <th>Label</th>\n",
       "    </tr>\n",
       "  </thead>\n",
       "  <tbody>\n",
       "    <tr>\n",
       "      <th>0</th>\n",
       "      <td>Ben Stein Calls Out 9th Circuit Court: Committ...</td>\n",
       "      <td>0</td>\n",
       "    </tr>\n",
       "    <tr>\n",
       "      <th>1</th>\n",
       "      <td>Trump drops Steve Bannon from National Securit...</td>\n",
       "      <td>1</td>\n",
       "    </tr>\n",
       "    <tr>\n",
       "      <th>2</th>\n",
       "      <td>Puerto Rico expects U.S. to lift Jones Act shi...</td>\n",
       "      <td>1</td>\n",
       "    </tr>\n",
       "    <tr>\n",
       "      <th>3</th>\n",
       "      <td>OOPS: Trump Just Accidentally Confirmed He Le...</td>\n",
       "      <td>0</td>\n",
       "    </tr>\n",
       "    <tr>\n",
       "      <th>4</th>\n",
       "      <td>Donald Trump heads for Scotland to reopen a go...</td>\n",
       "      <td>1</td>\n",
       "    </tr>\n",
       "    <tr>\n",
       "      <th>5</th>\n",
       "      <td>Paul Ryan Responds To Dem’s Sit-In On Gun Con...</td>\n",
       "      <td>0</td>\n",
       "    </tr>\n",
       "    <tr>\n",
       "      <th>6</th>\n",
       "      <td>AWESOME! DIAMOND AND SILK Rip Into The Press: ...</td>\n",
       "      <td>0</td>\n",
       "    </tr>\n",
       "    <tr>\n",
       "      <th>7</th>\n",
       "      <td>STAND UP AND CHEER! UKIP Party Leader SLAMS Ge...</td>\n",
       "      <td>0</td>\n",
       "    </tr>\n",
       "    <tr>\n",
       "      <th>8</th>\n",
       "      <td>North Korea shows no sign it is serious about ...</td>\n",
       "      <td>1</td>\n",
       "    </tr>\n",
       "    <tr>\n",
       "      <th>9</th>\n",
       "      <td>Trump signals willingness to raise U.S. minimu...</td>\n",
       "      <td>1</td>\n",
       "    </tr>\n",
       "  </tbody>\n",
       "</table>\n",
       "</div>"
      ],
      "text/plain": [
       "                                           Sentences  Label\n",
       "0  Ben Stein Calls Out 9th Circuit Court: Committ...      0\n",
       "1  Trump drops Steve Bannon from National Securit...      1\n",
       "2  Puerto Rico expects U.S. to lift Jones Act shi...      1\n",
       "3   OOPS: Trump Just Accidentally Confirmed He Le...      0\n",
       "4  Donald Trump heads for Scotland to reopen a go...      1\n",
       "5   Paul Ryan Responds To Dem’s Sit-In On Gun Con...      0\n",
       "6  AWESOME! DIAMOND AND SILK Rip Into The Press: ...      0\n",
       "7  STAND UP AND CHEER! UKIP Party Leader SLAMS Ge...      0\n",
       "8  North Korea shows no sign it is serious about ...      1\n",
       "9  Trump signals willingness to raise U.S. minimu...      1"
      ]
     },
     "metadata": {},
     "output_type": "display_data"
    }
   ],
   "source": [
    "final_data = final_data.drop(['title', 'text', 'subject', 'date'], axis = 1)\n",
    "\n",
    "display(final_data.head(10))"
   ]
  },
  {
   "cell_type": "markdown",
   "metadata": {},
   "source": [
    "## Processing Sentences"
   ]
  },
  {
   "cell_type": "markdown",
   "metadata": {},
   "source": [
    "### Function"
   ]
  },
  {
   "cell_type": "code",
   "execution_count": 12,
   "metadata": {},
   "outputs": [],
   "source": [
    "def remove_URL(s):\n",
    "    regex = re.compile(r'https?://\\S+|www\\.\\S+|bit\\.ly\\S+')\n",
    "    return regex.sub(r'',s)"
   ]
  },
  {
   "cell_type": "markdown",
   "metadata": {},
   "source": [
    "### List of functions"
   ]
  },
  {
   "cell_type": "code",
   "execution_count": 13,
   "metadata": {},
   "outputs": [],
   "source": [
    "CUSTOM_FILTERS = [lambda x: x.lower(), strip_tags, remove_URL, strip_punctuation, strip_multiple_whitespaces, strip_numeric, remove_stopwords, strip_short]"
   ]
  },
  {
   "cell_type": "markdown",
   "metadata": {},
   "source": [
    "### Useful info"
   ]
  },
  {
   "cell_type": "code",
   "execution_count": 14,
   "metadata": {},
   "outputs": [],
   "source": [
    "words_broken_up = [preprocess_string(sentence, CUSTOM_FILTERS) for sentence in final_data.Sentences]"
   ]
  },
  {
   "cell_type": "code",
   "execution_count": 15,
   "metadata": {},
   "outputs": [],
   "source": [
    "processed_data = [word for word in words_broken_up if len(word) > 0]"
   ]
  },
  {
   "cell_type": "code",
   "execution_count": 16,
   "metadata": {},
   "outputs": [],
   "source": [
    "processed_labels = [label for num, label in enumerate(final_data.Label) if len(words_broken_up[num]) > 0]"
   ]
  },
  {
   "cell_type": "markdown",
   "metadata": {},
   "source": [
    "# Word2Vec"
   ]
  },
  {
   "cell_type": "code",
   "execution_count": 17,
   "metadata": {},
   "outputs": [
    {
     "data": {
      "text/plain": [
       "[('nation', 0.8257389068603516),\n",
       " ('america', 0.667441189289093),\n",
       " ('countries', 0.5821973085403442),\n",
       " ('europe', 0.5630171895027161),\n",
       " ('world', 0.519716739654541),\n",
       " ('americans', 0.4928061366081238),\n",
       " ('path', 0.4909282624721527),\n",
       " ('especially', 0.4875548779964447),\n",
       " ('fear', 0.4815024137496948),\n",
       " ('prosperous', 0.48017793893814087)]"
      ]
     },
     "metadata": {},
     "output_type": "display_data"
    }
   ],
   "source": [
    "model = Word2Vec(processed_data, min_count=1)\n",
    "display(model.wv.most_similar(\"country\"))"
   ]
  },
  {
   "cell_type": "markdown",
   "metadata": {},
   "source": [
    "## Sentence Vectors"
   ]
  },
  {
   "cell_type": "code",
   "execution_count": 18,
   "metadata": {},
   "outputs": [],
   "source": [
    "def return_vector(model_made, x):\n",
    "    try:\n",
    "        return model_made[x]\n",
    "    except:\n",
    "        return np.zeros(100)\n",
    "    \n",
    "    \n",
    "def sentence_vector(model_made, sentence):\n",
    "    word_vectors = list(map(lambda x: return_vector(model_made, x), sentence))\n",
    "    return np.average(word_vectors, axis=0).tolist()"
   ]
  },
  {
   "cell_type": "code",
   "execution_count": 19,
   "metadata": {},
   "outputs": [
    {
     "name": "stderr",
     "output_type": "stream",
     "text": [
      "C:\\Users\\jarc1\\anaconda3\\envs\\env1\\lib\\site-packages\\ipykernel_launcher.py:3: DeprecationWarning: Call to deprecated `__getitem__` (Method will be removed in 4.0.0, use self.wv.__getitem__() instead).\n",
      "  This is separate from the ipykernel package so we can avoid doing imports until\n"
     ]
    }
   ],
   "source": [
    "X = np.array([sentence_vector(model, data) for data in processed_data])"
   ]
  },
  {
   "cell_type": "code",
   "execution_count": 20,
   "metadata": {},
   "outputs": [],
   "source": [
    "np.save('X', X)"
   ]
  },
  {
   "cell_type": "code",
   "execution_count": 24,
   "metadata": {},
   "outputs": [
    {
     "data": {
      "text/plain": [
       "array([-0.32123074,  0.10169125,  0.72276968,  0.03206942, -0.61726338,\n",
       "       -0.24283664,  0.63688195,  0.5249728 ,  0.64675754,  0.1152055 ,\n",
       "       -0.4815042 , -0.89974558, -0.00762568,  0.2933363 ,  0.44644031,\n",
       "        0.51858097,  0.47446933,  0.13875988, -0.0306441 ,  0.54360187,\n",
       "        0.23764895,  0.64876127,  0.21412817,  0.3169899 , -0.51947409,\n",
       "        0.19905782,  0.18832985,  0.38773045,  0.52204823, -0.25709477,\n",
       "       -1.00790942, -0.4752112 ,  0.88008535, -0.06160234,  0.03825022,\n",
       "       -0.01551319,  0.18383649, -0.2007156 , -0.33364904,  0.02455057,\n",
       "        0.34962565, -0.44205281,  0.1607201 , -0.48582035, -0.14196068,\n",
       "       -0.34427616,  0.2041886 ,  0.02068151,  0.35949475, -0.26297835,\n",
       "       -0.6309492 ,  0.29961634, -0.27055293, -0.19646035,  0.38210335,\n",
       "        0.13136664, -0.11548232, -1.02537346,  0.32271606, -0.62880832,\n",
       "        0.49720156, -0.00938052, -0.3718771 , -0.37069792, -0.45816118,\n",
       "       -0.19841351, -0.38273787,  0.48432291, -0.49537119, -0.32946342,\n",
       "       -0.29681155, -0.10060212, -0.02414875, -0.61493915,  0.07253824,\n",
       "        0.28160343, -0.53895241,  0.01026804,  0.01142803, -0.31302741,\n",
       "        0.26879898,  0.46496436,  0.35519752, -0.36948285, -0.32491669,\n",
       "        0.13192029, -0.33516115,  0.1898991 , -0.2894007 , -0.08372079,\n",
       "       -0.1644893 , -0.54765898, -0.16778545,  0.06295976, -0.07108735,\n",
       "        0.08263525,  0.01429848, -0.10773788, -0.05835594,  0.40523243])"
      ]
     },
     "execution_count": 24,
     "metadata": {},
     "output_type": "execute_result"
    }
   ],
   "source": [
    "a = np.load('X.npy')\n",
    "a[0]"
   ]
  },
  {
   "cell_type": "markdown",
   "metadata": {},
   "source": [
    "# Clustering"
   ]
  },
  {
   "cell_type": "code",
   "execution_count": null,
   "metadata": {},
   "outputs": [],
   "source": [
    "kmeans = cluster.KMeans(n_clusters=2, verbose=1)\n",
    "clustered = kmeans.fit_predict(X)"
   ]
  },
  {
   "cell_type": "code",
   "execution_count": null,
   "metadata": {},
   "outputs": [],
   "source": [
    "testing_df = pd.DataFrame({'Sentence': processed_data, 'Labels': processed_labels, 'Prediction': clustered})\n",
    "display(testing_df.head(20))"
   ]
  },
  {
   "cell_type": "markdown",
   "metadata": {},
   "source": [
    "## Validating"
   ]
  },
  {
   "cell_type": "code",
   "execution_count": null,
   "metadata": {},
   "outputs": [],
   "source": [
    "testing_df['assertion'] = np.logical_not(np.logical_xor(testing_df['Labels'], testing_df['Prediction']))\n",
    "assertion = np.sum(testing_df.assertion)/np.sum(len(testing_df.assertion))*100\n",
    "\n",
    "print('Data classificated correctly: ', assertion, '%')"
   ]
  },
  {
   "cell_type": "markdown",
   "metadata": {},
   "source": [
    "# Visualization"
   ]
  },
  {
   "cell_type": "markdown",
   "metadata": {},
   "source": [
    "## Prinicpal Component Analysis (PCA)"
   ]
  },
  {
   "cell_type": "code",
   "execution_count": null,
   "metadata": {},
   "outputs": [],
   "source": [
    "pca = PCA(n_components=2)\n",
    "pca_result = pca.fit_transform(X)\n",
    "\n",
    "PCA_df = pd.DataFrame(pca_result)\n",
    "PCA_df['cluster'] = clustered\n",
    "PCA_df.columns = ['x1','x2','cluster']"
   ]
  },
  {
   "cell_type": "markdown",
   "metadata": {},
   "source": [
    "## T-Distributed Stochastic Neighbor Embedding (TSNE)"
   ]
  },
  {
   "cell_type": "code",
   "execution_count": null,
   "metadata": {},
   "outputs": [],
   "source": [
    "tsne = TSNE(n_components=2)\n",
    "tsne_result = tsne.fit_transform(pca_result)\n",
    "\n",
    "TSNE_df = pd.DataFrame(tsne_result)\n",
    "TSNE_df['cluster'] = clustered\n",
    "TSNE_df.columns = ['x1','x2','cluster']"
   ]
  },
  {
   "cell_type": "markdown",
   "metadata": {},
   "source": [
    "### Plots"
   ]
  },
  {
   "cell_type": "code",
   "execution_count": null,
   "metadata": {},
   "outputs": [],
   "source": [
    "fig, ax = plt.subplots(1, 2, figsize=(12,6))\n",
    "sns.scatterplot(data=PCA_df,x='x1',y='x2',hue='cluster',legend=\"full\",alpha=0.5,ax=ax[1])\n",
    "sns.scatterplot(data=TSNE_df,x='x1',y='x2',hue='cluster',legend=\"full\",alpha=0.5,ax=ax[0])\n",
    "ax[0].set_title('Visualized on TSNE')\n",
    "ax[1].set_title('Visualized on PCA')"
   ]
  },
  {
   "cell_type": "markdown",
   "metadata": {},
   "source": [
    "# Custom new tests\n",
    "Testing with fake news generated from https://www.thefakenewsgenerator.com/"
   ]
  },
  {
   "cell_type": "markdown",
   "metadata": {},
   "source": [
    "### Onion"
   ]
  },
  {
   "cell_type": "code",
   "execution_count": null,
   "metadata": {},
   "outputs": [],
   "source": [
    "onion_data = \"Flint Residents Learn To Harness Superpowers, But Trump Gets Away Again They developed superpowers after years of drinking from a lead-poisoned water supply. But just having incredible abilities doesn't make them superheroes. Not yet. Donald Trump faced off against the superpowered civilians but he got away before they could catch him\"\n",
    "\n",
    "# Preprocess article\n",
    "onion_data = preprocess_string(onion_data, CUSTOM_FILTERS)\n",
    "\n",
    "# Get sentence vector\n",
    "onion_data = sentence_vector(model, onion_data)\n",
    "\n",
    "# Get prediction\n",
    "kmeans.predict(np.array([onion_data]))"
   ]
  },
  {
   "cell_type": "markdown",
   "metadata": {},
   "source": [
    "### News from BBC"
   ]
  },
  {
   "cell_type": "code",
   "execution_count": null,
   "metadata": {},
   "outputs": [],
   "source": [
    "bbc_data = \"Nasa Mars 2020 Mission's MiMi Aung on women in space Next year, Nasa will send a mission to Mars. The woman in charge of making the helicopter that will be sent there – which is set to become the first aircraft to fly on another planet – is MiMi Aung. At 16, MiMi travelled alone from Myanmar to the US for access to education. She is now one of the lead engineers at Nasa. We find out what it's like being a woman in space exploration, and why her mum is her biggest inspiration.\"\n",
    "\n",
    "# Preprocess article\n",
    "bbc_data = preprocess_string(bbc_data, CUSTOM_FILTERS)\n",
    "\n",
    "# Get sentence vector\n",
    "bbc_data = sentence_vector(model, bbc_data)\n",
    "\n",
    "# Get prediction\n",
    "kmeans.predict(np.array([bbc_data]))"
   ]
  }
 ],
 "metadata": {
  "kernelspec": {
   "display_name": "env1",
   "language": "python",
   "name": "env1"
  },
  "language_info": {
   "codemirror_mode": {
    "name": "ipython",
    "version": 3
   },
   "file_extension": ".py",
   "mimetype": "text/x-python",
   "name": "python",
   "nbconvert_exporter": "python",
   "pygments_lexer": "ipython3",
   "version": "3.7.7"
  }
 },
 "nbformat": 4,
 "nbformat_minor": 4
}
